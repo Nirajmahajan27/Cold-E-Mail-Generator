{
 "cells": [
  {
   "cell_type": "code",
   "execution_count": 1,
   "id": "c7cff336",
   "metadata": {},
   "outputs": [
    {
     "name": "stdout",
     "output_type": "stream",
     "text": [
      "It seems like you didn't type anything. If you have a question or need help with something, feel free to ask, and I'll do my best to assist you.\n"
     ]
    }
   ],
   "source": [
    "from langchain_groq import ChatGroq\n",
    "\n",
    "llm = ChatGroq(\n",
    "    temperature=0,\n",
    "    groq_api_key='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',\n",
    "    model_name=\"llama-3.1-70b-versatile\"\n",
    "   )\n",
    "response=llm.invoke(\"\")\n",
    "print(response.content)"
   ]
  },
  {
   "cell_type": "code",
   "execution_count": 8,
   "id": "3931d4c5",
   "metadata": {},
   "outputs": [
    {
     "name": "stdout",
     "output_type": "stream",
     "text": [
      "Apply for Data Engineer, ITC\n",
      "\n",
      "Search JobsSkip navigationSearch JobsNIKE, INC. JOBSContract JobsJoin The Talent CommunityLife @ NikeOverviewBenefitsBrandsOverviewJordanConverseTeamsOverviewAdministrative SupportAdvanced InnovationAir Manufacturing InnovationAviationCommunicationsCustomer ServiceDesignDigitalFacilitiesFinance & AccountingGovernment & Public AffairsHuman ResourcesInsights & AnalyticsLegalManufacturing & EngineeringMarketingMerchandisingPlanningPrivacyProcurementProduct Creation, Development & ManagementRetail CorporateRetail StoresSalesSocial & Community ImpactSports MarketingStrategic PlanningSupply Chain, Distribution & LogisticsSustainabilityTechnologyLocationsOverviewNike WHQNike New York HQEHQ: Hilversum, The NetherlandsELC: Laakdal, BelgiumGreater China HQDiversity, Equity & InclusionOverviewMilitary InclusionDisability InclusionIndigenous InclusionInternshipsData & AnalyticsData Engineer, ITCKarnataka, IndiaBecome a Part of the NIKE, Inc. Team\n",
      "NIKE, Inc. does more than outfit the world’s best athletes. It is a place to explore potential, obliterate boundaries and push out the edges of what can be. The company looks for people who can grow, think, dream and create. Its culture thrives by embracing diversity and rewarding imagination. The brand seeks achievers, leaders and visionaries. At NIKE, Inc. it’s about each person bringing skills and passion to a challenging and constantly evolving game.WHO YOU’LL WORK WITHA data engineer will work in the Data and Artificial Intelligence organisation of Nike and will focus on building highly complex and performant data pipelines that'll drive Nike's data driven strategies for the future of sports.WHO WE ARE LOOKING FORIn this role, we are looking for self-driven individuals who have deep technical knowledge in the big data domain. This role requires the individual to be an excellent problem solver who'll design and implement complex data pipelines which solve business problems of Nike.The core competencies required for this role include -Bachelor’s degree in computer science engineering2+ years of hands-on experience in data engineering fieldIn depth big data tech stack knowledgeExpertise in pyspark and SQLExpertise in databricks, snowflake, airflowExcellent written and verbal communication skillsWHAT YOU’LL WORK ONAs a data engineer you'll be a key pillar of the data engineering team. You will collaborate closely with other engineers to deliver key changes to data pipelines that drive Nike's data strategyOn a day-to-day basis, you'll focus on -Building, enhancing, and troubleshooting complex data pipelinesCollaborating with product managers, engineers, analysts to build, enhance and troubleshoot data pipelinesCollaborate with senior, lead and principal engineers to define and implement quality standards across data pipelinesContribute towards the design and architecture of data pipelinesImplement data quality and reliability measures across data pipelinesNIKE, Inc. is a growth company that looks for team members to grow with it. Nike offers a generous total rewards package, casual work environment, a diverse and inclusive culture, and an electric atmosphere for professional development. No matter the location, or the role, every Nike employee shares one galvanizing mission: To bring inspiration and innovation to every athlete* in the world.NIKE, Inc. is committed to employing a diverse workforce. Qualified applicants will receive consideration without regard to race, color, religion, sex, national origin, age, sexual orientation, gender identity, gender expression, veteran status, or disability.How We HireAt NIKE, Inc. we promise to provide a premium, inclusive, compelling and authentic candidate experience. Delivering on this promise means we allow you to be at your best — and to do that, you need to understand how the hiring process works. Transparency is key.\r\n",
      "\r\n",
      "* This overview explains our hiring process for corporate roles. Note there may be different hiring steps involved for non-corporate roles.Start nowBenefitsWhether it’s transportation or financial health, we continually invest in our employees to help them achieve greatness — inside and outside of work. All who work here should be able to realize their full potential.Employee Assistance ProgramHolidaysMedical PlanPaid Time Off (PTO)Product DiscountsLearn moreFIND A STOREBECOME A MEMBERSIGN UP FOR EMAILSEND US FEEDBACKSTUDENT DISCOUNTSGET HELPGET HELPOrder StatusDeliveryReturnsPayment OptionsContact Us On Nike.com InquiriesContact Us On All Other InquiriesABOUT NIKEABOUT NIKENewsCareersInvestorsSustainabilityIndia© 2024 Nike, Inc. All Rights ReservedGuidesNike AdaptNike Air MaxNike FlyleatherNike PegasusNike Zoom FlyNike AirNike FlyEaseNike FreeNike ReactNike ZoomXNike Air Force 1Nike FlyknitNike JoyrideNike VaporflyTerms of SaleTerms of UseNike Privacy Policy\n"
     ]
    }
   ],
   "source": [
    "from langchain_community.document_loaders import WebBaseLoader\n",
    "\n",
    "loader = WebBaseLoader(\"https://jobs.nike.com/job/R-45490?from=job%20search%20funnel\")\n",
    "page_data=loader.load().pop().page_content\n",
    "print(page_data)"
   ]
  },
  {
   "cell_type": "code",
   "execution_count": 9,
   "id": "66f17e5f",
   "metadata": {},
   "outputs": [
    {
     "name": "stdout",
     "output_type": "stream",
     "text": [
      "```json\n",
      "{\n",
      "  \"role\": \"Data Engineer, ITC\",\n",
      "  \"experience\": \"2+ years of hands-on experience in data engineering field\",\n",
      "  \"skills\": [\n",
      "    \"Bachelor’s degree in computer science engineering\",\n",
      "    \"In depth big data tech stack knowledge\",\n",
      "    \"Expertise in pyspark and SQL\",\n",
      "    \"Expertise in databricks, snowflake, airflow\",\n",
      "    \"Excellent written and verbal communication skills\"\n",
      "  ],\n",
      "  \"description\": \"Building, enhancing, and troubleshooting complex data pipelines. Collaborating with product managers, engineers, analysts to build, enhance and troubleshoot data pipelines. Collaborate with senior, lead and principal engineers to define and implement quality standards across data pipelines. Contribute towards the design and architecture of data pipelines. Implement data quality and reliability measures across data pipelines.\"\n",
      "}\n",
      "```\n"
     ]
    }
   ],
   "source": [
    "from langchain_core.prompts import PromptTemplate\n",
    "\n",
    "prompt_extract = PromptTemplate.from_template(\n",
    "        \"\"\"\n",
    "        ### SCRAPED TEXT FROM WEBSITE:\n",
    "        {page_data}\n",
    "        ### INSTRUCTION:\n",
    "        The scraped text is from the career's page of a website.\n",
    "        Your job is to extract the job postings and return them in JSON format containing the \n",
    "        following keys: `role`, `experience`, `skills` and `description`.\n",
    "        Only return the valid JSON.\n",
    "        ### VALID JSON (NO PREAMBLE):    \n",
    "        \"\"\"\n",
    ")\n",
    "\n",
    "chain_extract = prompt_extract | llm \n",
    "res = chain_extract.invoke(input={'page_data':page_data})\n",
    "print(res.content)"
   ]
  },
  {
   "cell_type": "code",
   "execution_count": 10,
   "id": "7d70548c",
   "metadata": {},
   "outputs": [
    {
     "data": {
      "text/plain": [
       "{'role': 'Data Engineer, ITC',\n",
       " 'experience': '2+ years of hands-on experience in data engineering field',\n",
       " 'skills': ['Bachelor’s degree in computer science engineering',\n",
       "  'In depth big data tech stack knowledge',\n",
       "  'Expertise in pyspark and SQL',\n",
       "  'Expertise in databricks, snowflake, airflow',\n",
       "  'Excellent written and verbal communication skills'],\n",
       " 'description': 'Building, enhancing, and troubleshooting complex data pipelines. Collaborating with product managers, engineers, analysts to build, enhance and troubleshoot data pipelines. Collaborate with senior, lead and principal engineers to define and implement quality standards across data pipelines. Contribute towards the design and architecture of data pipelines. Implement data quality and reliability measures across data pipelines.'}"
      ]
     },
     "execution_count": 10,
     "metadata": {},
     "output_type": "execute_result"
    }
   ],
   "source": [
    "from langchain_core.output_parsers import JsonOutputParser\n",
    "\n",
    "json_parser = JsonOutputParser()\n",
    "json_res = json_parser.parse(res.content)\n",
    "json_res"
   ]
  },
  {
   "cell_type": "code",
   "execution_count": 11,
   "id": "26361433",
   "metadata": {},
   "outputs": [
    {
     "data": {
      "text/html": [
       "<div>\n",
       "<style scoped>\n",
       "    .dataframe tbody tr th:only-of-type {\n",
       "        vertical-align: middle;\n",
       "    }\n",
       "\n",
       "    .dataframe tbody tr th {\n",
       "        vertical-align: top;\n",
       "    }\n",
       "\n",
       "    .dataframe thead th {\n",
       "        text-align: right;\n",
       "    }\n",
       "</style>\n",
       "<table border=\"1\" class=\"dataframe\">\n",
       "  <thead>\n",
       "    <tr style=\"text-align: right;\">\n",
       "      <th></th>\n",
       "      <th>Techstack</th>\n",
       "      <th>Links</th>\n",
       "    </tr>\n",
       "  </thead>\n",
       "  <tbody>\n",
       "    <tr>\n",
       "      <th>0</th>\n",
       "      <td>React, Node.js, MongoDB</td>\n",
       "      <td>https://example.com/react-portfolio</td>\n",
       "    </tr>\n",
       "    <tr>\n",
       "      <th>1</th>\n",
       "      <td>Angular,.NET, SQL Server</td>\n",
       "      <td>https://example.com/angular-portfolio</td>\n",
       "    </tr>\n",
       "    <tr>\n",
       "      <th>2</th>\n",
       "      <td>Vue.js, Ruby on Rails, PostgreSQL</td>\n",
       "      <td>https://example.com/vue-portfolio</td>\n",
       "    </tr>\n",
       "    <tr>\n",
       "      <th>3</th>\n",
       "      <td>Python, Django, MySQL</td>\n",
       "      <td>https://example.com/python-portfolio</td>\n",
       "    </tr>\n",
       "    <tr>\n",
       "      <th>4</th>\n",
       "      <td>Java, Spring Boot, Oracle</td>\n",
       "      <td>https://example.com/java-portfolio</td>\n",
       "    </tr>\n",
       "    <tr>\n",
       "      <th>5</th>\n",
       "      <td>Flutter, Firebase, GraphQL</td>\n",
       "      <td>https://example.com/flutter-portfolio</td>\n",
       "    </tr>\n",
       "    <tr>\n",
       "      <th>6</th>\n",
       "      <td>WordPress, PHP, MySQL</td>\n",
       "      <td>https://example.com/wordpress-portfolio</td>\n",
       "    </tr>\n",
       "    <tr>\n",
       "      <th>7</th>\n",
       "      <td>Magento, PHP, MySQL</td>\n",
       "      <td>https://example.com/magento-portfolio</td>\n",
       "    </tr>\n",
       "    <tr>\n",
       "      <th>8</th>\n",
       "      <td>React Native, Node.js, MongoDB</td>\n",
       "      <td>https://example.com/react-native-portfolio</td>\n",
       "    </tr>\n",
       "    <tr>\n",
       "      <th>9</th>\n",
       "      <td>iOS, Swift, Core Data</td>\n",
       "      <td>https://example.com/ios-portfolio</td>\n",
       "    </tr>\n",
       "    <tr>\n",
       "      <th>10</th>\n",
       "      <td>Android, Java, Room Persistence</td>\n",
       "      <td>https://example.com/android-portfolio</td>\n",
       "    </tr>\n",
       "    <tr>\n",
       "      <th>11</th>\n",
       "      <td>Kotlin, Android, Firebase</td>\n",
       "      <td>https://example.com/kotlin-android-portfolio</td>\n",
       "    </tr>\n",
       "    <tr>\n",
       "      <th>12</th>\n",
       "      <td>Android TV, Kotlin, Android NDK</td>\n",
       "      <td>https://example.com/android-tv-portfolio</td>\n",
       "    </tr>\n",
       "    <tr>\n",
       "      <th>13</th>\n",
       "      <td>iOS, Swift, ARKit</td>\n",
       "      <td>https://example.com/ios-ar-portfolio</td>\n",
       "    </tr>\n",
       "    <tr>\n",
       "      <th>14</th>\n",
       "      <td>Cross-platform, Xamarin, Azure</td>\n",
       "      <td>https://example.com/xamarin-portfolio</td>\n",
       "    </tr>\n",
       "    <tr>\n",
       "      <th>15</th>\n",
       "      <td>Backend, Kotlin, Spring Boot</td>\n",
       "      <td>https://example.com/kotlin-backend-portfolio</td>\n",
       "    </tr>\n",
       "    <tr>\n",
       "      <th>16</th>\n",
       "      <td>Frontend, TypeScript, Angular</td>\n",
       "      <td>https://example.com/typescript-frontend-portfolio</td>\n",
       "    </tr>\n",
       "    <tr>\n",
       "      <th>17</th>\n",
       "      <td>Full-stack, JavaScript, Express.js</td>\n",
       "      <td>https://example.com/full-stack-js-portfolio</td>\n",
       "    </tr>\n",
       "    <tr>\n",
       "      <th>18</th>\n",
       "      <td>Machine Learning, Python, TensorFlow</td>\n",
       "      <td>https://example.com/ml-python-portfolio</td>\n",
       "    </tr>\n",
       "    <tr>\n",
       "      <th>19</th>\n",
       "      <td>DevOps, Jenkins, Docker</td>\n",
       "      <td>https://example.com/devops-portfolio</td>\n",
       "    </tr>\n",
       "    <tr>\n",
       "      <th>20</th>\n",
       "      <td>Python, FastAPI, MongoDB, Docker</td>\n",
       "      <td>https://example.com/python-fastapi-mongodb-docker</td>\n",
       "    </tr>\n",
       "    <tr>\n",
       "      <th>21</th>\n",
       "      <td>Go, Kubernetes, MySQL, Istio</td>\n",
       "      <td>https://example.com/go-kubernetes-mysql-istio</td>\n",
       "    </tr>\n",
       "    <tr>\n",
       "      <th>22</th>\n",
       "      <td>Rust, Actix, PostgreSQL, Podman</td>\n",
       "      <td>https://example.com/rust-actix-postgresql-podman</td>\n",
       "    </tr>\n",
       "    <tr>\n",
       "      <th>23</th>\n",
       "      <td>JavaScript, Next.js, Redis, Supabase</td>\n",
       "      <td>https://example.com/javascript-nextjs-redis-su...</td>\n",
       "    </tr>\n",
       "    <tr>\n",
       "      <th>24</th>\n",
       "      <td>Python, PyTorch, Hugging Face Transformers</td>\n",
       "      <td>https://example.com/python-pytorch-transformers</td>\n",
       "    </tr>\n",
       "    <tr>\n",
       "      <th>25</th>\n",
       "      <td>Java, Micronaut, CockroachDB</td>\n",
       "      <td>https://example.com/java-micronaut-cockroachdb</td>\n",
       "    </tr>\n",
       "    <tr>\n",
       "      <th>26</th>\n",
       "      <td>TypeScript, Astro, Deno, DynamoDB</td>\n",
       "      <td>https://example.com/typescript-astro-deno-dyna...</td>\n",
       "    </tr>\n",
       "    <tr>\n",
       "      <th>27</th>\n",
       "      <td>Swift, Vapor, CloudKit</td>\n",
       "      <td>https://example.com/swift-vapor-cloudkit</td>\n",
       "    </tr>\n",
       "    <tr>\n",
       "      <th>28</th>\n",
       "      <td>Kotlin, Ktor, Neo4j</td>\n",
       "      <td>https://example.com/kotlin-ktor-neo4j</td>\n",
       "    </tr>\n",
       "    <tr>\n",
       "      <th>29</th>\n",
       "      <td>Scala, Akka, Cassandra</td>\n",
       "      <td>https://example.com/scala-akka-cassandra</td>\n",
       "    </tr>\n",
       "  </tbody>\n",
       "</table>\n",
       "</div>"
      ],
      "text/plain": [
       "                                     Techstack   \n",
       "0                      React, Node.js, MongoDB  \\\n",
       "1                     Angular,.NET, SQL Server   \n",
       "2            Vue.js, Ruby on Rails, PostgreSQL   \n",
       "3                        Python, Django, MySQL   \n",
       "4                    Java, Spring Boot, Oracle   \n",
       "5                   Flutter, Firebase, GraphQL   \n",
       "6                        WordPress, PHP, MySQL   \n",
       "7                          Magento, PHP, MySQL   \n",
       "8               React Native, Node.js, MongoDB   \n",
       "9                        iOS, Swift, Core Data   \n",
       "10             Android, Java, Room Persistence   \n",
       "11                   Kotlin, Android, Firebase   \n",
       "12             Android TV, Kotlin, Android NDK   \n",
       "13                           iOS, Swift, ARKit   \n",
       "14              Cross-platform, Xamarin, Azure   \n",
       "15                Backend, Kotlin, Spring Boot   \n",
       "16               Frontend, TypeScript, Angular   \n",
       "17          Full-stack, JavaScript, Express.js   \n",
       "18        Machine Learning, Python, TensorFlow   \n",
       "19                     DevOps, Jenkins, Docker   \n",
       "20            Python, FastAPI, MongoDB, Docker   \n",
       "21                Go, Kubernetes, MySQL, Istio   \n",
       "22             Rust, Actix, PostgreSQL, Podman   \n",
       "23        JavaScript, Next.js, Redis, Supabase   \n",
       "24  Python, PyTorch, Hugging Face Transformers   \n",
       "25                Java, Micronaut, CockroachDB   \n",
       "26           TypeScript, Astro, Deno, DynamoDB   \n",
       "27                      Swift, Vapor, CloudKit   \n",
       "28                         Kotlin, Ktor, Neo4j   \n",
       "29                      Scala, Akka, Cassandra   \n",
       "\n",
       "                                                Links  \n",
       "0                 https://example.com/react-portfolio  \n",
       "1               https://example.com/angular-portfolio  \n",
       "2                   https://example.com/vue-portfolio  \n",
       "3                https://example.com/python-portfolio  \n",
       "4                  https://example.com/java-portfolio  \n",
       "5               https://example.com/flutter-portfolio  \n",
       "6             https://example.com/wordpress-portfolio  \n",
       "7               https://example.com/magento-portfolio  \n",
       "8          https://example.com/react-native-portfolio  \n",
       "9                   https://example.com/ios-portfolio  \n",
       "10              https://example.com/android-portfolio  \n",
       "11       https://example.com/kotlin-android-portfolio  \n",
       "12           https://example.com/android-tv-portfolio  \n",
       "13               https://example.com/ios-ar-portfolio  \n",
       "14              https://example.com/xamarin-portfolio  \n",
       "15       https://example.com/kotlin-backend-portfolio  \n",
       "16  https://example.com/typescript-frontend-portfolio  \n",
       "17        https://example.com/full-stack-js-portfolio  \n",
       "18            https://example.com/ml-python-portfolio  \n",
       "19               https://example.com/devops-portfolio  \n",
       "20  https://example.com/python-fastapi-mongodb-docker  \n",
       "21      https://example.com/go-kubernetes-mysql-istio  \n",
       "22   https://example.com/rust-actix-postgresql-podman  \n",
       "23  https://example.com/javascript-nextjs-redis-su...  \n",
       "24    https://example.com/python-pytorch-transformers  \n",
       "25     https://example.com/java-micronaut-cockroachdb  \n",
       "26  https://example.com/typescript-astro-deno-dyna...  \n",
       "27           https://example.com/swift-vapor-cloudkit  \n",
       "28              https://example.com/kotlin-ktor-neo4j  \n",
       "29           https://example.com/scala-akka-cassandra  "
      ]
     },
     "execution_count": 11,
     "metadata": {},
     "output_type": "execute_result"
    }
   ],
   "source": [
    "import pandas as pd\n",
    "\n",
    "df = pd.read_csv(\"my_portfolio.csv\")\n",
    "df"
   ]
  },
  {
   "cell_type": "code",
   "execution_count": 12,
   "id": "144a061a",
   "metadata": {},
   "outputs": [],
   "source": [
    "import uuid\n",
    "import chromadb\n",
    "\n",
    "client = chromadb.PersistentClient('vectorstore')\n",
    "collection = client.get_or_create_collection(name=\"portfolio\")\n",
    "\n",
    "if not collection.count():\n",
    "    for _, row in df.iterrows():\n",
    "        collection.add(documents=row[\"Techstack\"],\n",
    "                       metadatas={\"links\": row[\"Links\"]},\n",
    "                       ids=[str(uuid.uuid4())])"
   ]
  },
  {
   "cell_type": "code",
   "execution_count": 13,
   "id": "8e1c6338",
   "metadata": {},
   "outputs": [
    {
     "data": {
      "text/plain": [
       "['Bachelor’s degree in computer science engineering',\n",
       " 'In depth big data tech stack knowledge',\n",
       " 'Expertise in pyspark and SQL',\n",
       " 'Expertise in databricks, snowflake, airflow',\n",
       " 'Excellent written and verbal communication skills']"
      ]
     },
     "execution_count": 13,
     "metadata": {},
     "output_type": "execute_result"
    }
   ],
   "source": [
    "job = json_res\n",
    "job [\"skills\"]"
   ]
  },
  {
   "cell_type": "code",
   "execution_count": 14,
   "id": "14ddd2f1",
   "metadata": {},
   "outputs": [
    {
     "data": {
      "text/plain": [
       "[[{'links': 'https://example.com/ml-python-portfolio'},\n",
       "  {'links': 'https://example.com/java-micronaut-cockroachdb'}],\n",
       " [{'links': 'https://example.com/typescript-astro-deno-dynamodb'},\n",
       "  {'links': 'https://example.com/ios-portfolio'}],\n",
       " [{'links': 'https://example.com/python-portfolio'},\n",
       "  {'links': 'https://example.com/rust-actix-postgresql-podman'}],\n",
       " [{'links': 'https://example.com/rust-actix-postgresql-podman'},\n",
       "  {'links': 'https://example.com/typescript-astro-deno-dynamodb'}],\n",
       " [{'links': 'https://example.com/typescript-astro-deno-dynamodb'},\n",
       "  {'links': 'https://example.com/ml-python-portfolio'}]]"
      ]
     },
     "execution_count": 14,
     "metadata": {},
     "output_type": "execute_result"
    }
   ],
   "source": [
    "links = collection.query(query_texts=job['skills'], n_results=2).get('metadatas', [])\n",
    "links"
   ]
  },
  {
   "cell_type": "code",
   "execution_count": 15,
   "id": "9551c471",
   "metadata": {},
   "outputs": [
    {
     "data": {
      "text/plain": [
       "{'role': 'Data Engineer, ITC',\n",
       " 'experience': '2+ years of hands-on experience in data engineering field',\n",
       " 'skills': ['Bachelor’s degree in computer science engineering',\n",
       "  'In depth big data tech stack knowledge',\n",
       "  'Expertise in pyspark and SQL',\n",
       "  'Expertise in databricks, snowflake, airflow',\n",
       "  'Excellent written and verbal communication skills'],\n",
       " 'description': 'Building, enhancing, and troubleshooting complex data pipelines. Collaborating with product managers, engineers, analysts to build, enhance and troubleshoot data pipelines. Collaborate with senior, lead and principal engineers to define and implement quality standards across data pipelines. Contribute towards the design and architecture of data pipelines. Implement data quality and reliability measures across data pipelines.'}"
      ]
     },
     "execution_count": 15,
     "metadata": {},
     "output_type": "execute_result"
    }
   ],
   "source": [
    "job"
   ]
  },
  {
   "cell_type": "code",
   "execution_count": 16,
   "id": "2356b33f",
   "metadata": {},
   "outputs": [
    {
     "name": "stdout",
     "output_type": "stream",
     "text": [
      "Subject: Expert Data Engineering Solutions for Seamless Integration\n",
      "\n",
      "Dear Hiring Manager,\n",
      "\n",
      "I came across the Data Engineer, ITC role at your esteemed organization and was impressed by the opportunity to collaborate with your team. As a Business Development Executive at NiraTech, I'd like to introduce our company as a trusted partner in delivering top-notch data engineering solutions.\n",
      "\n",
      "With a strong background in AI and software consulting, NiraTech has empowered numerous enterprises with tailored solutions, fostering scalability, process optimization, cost reduction, and heightened overall efficiency. Our team of experts has hands-on experience in designing and implementing complex data pipelines, leveraging cutting-edge technologies such as Databricks, Snowflake, and Airflow.\n",
      "\n",
      "Our portfolio showcases our expertise in developing scalable and efficient data pipelines using various technologies. Some relevant examples include:\n",
      "\n",
      "* A machine learning project built using Python, demonstrating our proficiency in handling large datasets and developing predictive models (https://example.com/ml-python-portfolio)\n",
      "* A data engineering project utilizing Databricks, showcasing our ability to design and implement efficient data pipelines (https://example.com/python-portfolio)\n",
      "\n",
      "Our team is well-equipped to handle the responsibilities outlined in the job description, including building, enhancing, and troubleshooting complex data pipelines, collaborating with cross-functional teams, and implementing data quality and reliability measures.\n",
      "\n",
      "I'd love to schedule a call to discuss how NiraTech can support your organization's data engineering needs. Please let me know if you're available for a quick call this week.\n",
      "\n",
      "Best regards,\n",
      "\n",
      "Niraj\n",
      "Business Development Executive\n",
      "NiraTech\n"
     ]
    }
   ],
   "source": [
    "prompt_email = PromptTemplate.from_template(\n",
    "        \"\"\"\n",
    "        ### JOB DESCRIPTION:\n",
    "        {job_description}\n",
    "        \n",
    "        ### INSTRUCTION:\n",
    "    You are Niraj, a Business Development Executive at NiraTech. NiraTech is an AI & Software Consulting company dedicated to facilitating the seamless integration of business processes through automated tools. \n",
    "    Over our experience, we have empowered numerous enterprises with tailored solutions, fostering scalability, process optimization, cost reduction, and heightened overall efficiency.\n",
    "    Your job is to write a cold email to the client regarding the job mentioned above, describing NiraTech's capability in fulfilling their needs. \n",
    "    Also, include the most relevant ones from the following links to showcase NiraTech's portfolio: {link_list}.\n",
    "    Remember, you are Niraj, BDE at NiraTech. \n",
    "        Do not provide a preamble.\n",
    "        ### EMAIL (NO PREAMBLE):\n",
    "        \n",
    "        \"\"\"\n",
    "        )\n",
    "\n",
    "chain_email = prompt_email | llm\n",
    "res = chain_email.invoke({\"job_description\": str(job), \"link_list\": links})\n",
    "print(res.content)"
   ]
  },
  {
   "cell_type": "code",
   "execution_count": null,
   "id": "39f01842",
   "metadata": {},
   "outputs": [],
   "source": []
  },
  {
   "cell_type": "code",
   "execution_count": null,
   "id": "06921da8",
   "metadata": {},
   "outputs": [],
   "source": []
  },
  {
   "cell_type": "code",
   "execution_count": null,
   "id": "c673d039",
   "metadata": {},
   "outputs": [],
   "source": []
  }
 ],
 "metadata": {
  "kernelspec": {
   "display_name": "Python 3 (ipykernel)",
   "language": "python",
   "name": "python3"
  },
  "language_info": {
   "codemirror_mode": {
    "name": "ipython",
    "version": 3
   },
   "file_extension": ".py",
   "mimetype": "text/x-python",
   "name": "python",
   "nbconvert_exporter": "python",
   "pygments_lexer": "ipython3",
   "version": "3.11.3"
  }
 },
 "nbformat": 4,
 "nbformat_minor": 5
}
